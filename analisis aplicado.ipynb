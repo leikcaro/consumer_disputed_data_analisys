{
 "cells": [
  {
   "attachments": {},
   "cell_type": "markdown",
   "metadata": {},
   "source": [
    "## Analísis aplicado\n",
    "\n",
    "Imagina que trabajas en el servicio de protección al consumidor de USA como analista y se te ha encargado hacer un análisis exploratorio de la base de datos de quejas y que **reportes los principales insights que encuentres**. A partir de estos, además se te pide **si es que existe la posibiliad de idear al menos un producto que use los datos y que permita mejorar el servicio entregado hasta ahora.**"
   ]
  },
  {
   "cell_type": "code",
   "execution_count": null,
   "metadata": {},
   "outputs": [],
   "source": [
    "import pandas as pd\n"
   ]
  },
  {
   "cell_type": "code",
   "execution_count": null,
   "metadata": {},
   "outputs": [],
   "source": [
    "df=pd.read_csv()"
   ]
  }
 ],
 "metadata": {
  "language_info": {
   "name": "python"
  },
  "orig_nbformat": 4
 },
 "nbformat": 4,
 "nbformat_minor": 2
}
